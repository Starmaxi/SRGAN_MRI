{
 "cells": [
  {
   "cell_type": "markdown",
   "id": "29c98972",
   "metadata": {},
   "source": [
    "Resize sagittal because its shape is [170, 256, 256] instead of [256, 256, 256]"
   ]
  },
  {
   "cell_type": "code",
   "execution_count": null,
   "id": "e6d880e9",
   "metadata": {},
   "outputs": [],
   "source": [
    "import numpy as np\n",
    "from pathlib import Path\n",
    "from scipy.ndimage import zoom\n",
    "import os\n",
    "\n",
    "input_folder = Path(\"C:/Users/LaraR/OneDrive/Desktop/Projekt_MRI/sorted_val_2/val_processed/sagittal/volumes\")\n",
    "volume = np.load(\"gehirn_coronaltest.npy\")"
   ]
  },
  {
   "cell_type": "code",
   "execution_count": null,
   "id": "1038ba3e",
   "metadata": {},
   "outputs": [
    {
     "name": "stdout",
     "output_type": "stream",
     "text": [
      "(170, 256, 256)\n",
      "gehirn1.npy skaliert auf (256, 256, 256)\n",
      "gehirn10.npy skaliert auf (256, 256, 256)\n",
      "gehirn2.npy skaliert auf (256, 256, 256)\n",
      "gehirn3.npy skaliert auf (256, 256, 256)\n",
      "gehirn4.npy skaliert auf (256, 256, 256)\n",
      "gehirn5.npy skaliert auf (256, 256, 256)\n",
      "gehirn6.npy skaliert auf (256, 256, 256)\n",
      "gehirn7.npy skaliert auf (256, 256, 256)\n",
      "gehirn8.npy skaliert auf (256, 256, 256)\n",
      "gehirn9.npy skaliert auf (256, 256, 256)\n"
     ]
    }
   ],
   "source": [
    "print(volume.shape)\n",
    "\n",
    "target_depth = 256\n",
    "\n",
    "for filename in os.listdir(input_folder):\n",
    "    if filename.endswith(\".npy\"):\n",
    "        file_path = os.path.join(input_folder, filename)\n",
    "        try:\n",
    "            volume = np.load(file_path)\n",
    "\n",
    "            if volume.shape != (170, 256, 256):\n",
    "                print(f\"{filename}: übersprungen, unerwartete Form {volume.shape}\")\n",
    "                continue\n",
    "\n",
    "            scale_factors = [target_depth / volume.shape[0], 1, 1]\n",
    "            volume_resized = zoom(volume, scale_factors, order=1)\n",
    "\n",
    "            np.save(file_path, volume_resized)\n",
    "            print(f\"{filename} skaliert auf {volume_resized.shape}\")\n",
    "\n",
    "        except Exception as e:\n",
    "            print(f\"Fehler bei {filename}: {e}\")\n",
    "\n",
    "\n"
   ]
  }
 ],
 "metadata": {
  "kernelspec": {
   "display_name": "projektenv",
   "language": "python",
   "name": "python3"
  },
  "language_info": {
   "codemirror_mode": {
    "name": "ipython",
    "version": 3
   },
   "file_extension": ".py",
   "mimetype": "text/x-python",
   "name": "python",
   "nbconvert_exporter": "python",
   "pygments_lexer": "ipython3",
   "version": "3.10.16"
  }
 },
 "nbformat": 4,
 "nbformat_minor": 5
}
